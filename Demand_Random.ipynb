{
 "cells": [
  {
   "cell_type": "code",
   "execution_count": 1,
   "id": "55eb756c",
   "metadata": {},
   "outputs": [],
   "source": [
    "import pandas as pd"
   ]
  },
  {
   "cell_type": "code",
   "execution_count": 2,
   "id": "8335cf26",
   "metadata": {},
   "outputs": [],
   "source": [
    "df = pd.read_csv('data.csv', header=None)"
   ]
  },
  {
   "cell_type": "code",
   "execution_count": 3,
   "id": "b36c8c91",
   "metadata": {},
   "outputs": [
    {
     "data": {
      "text/html": [
       "<div>\n",
       "<style scoped>\n",
       "    .dataframe tbody tr th:only-of-type {\n",
       "        vertical-align: middle;\n",
       "    }\n",
       "\n",
       "    .dataframe tbody tr th {\n",
       "        vertical-align: top;\n",
       "    }\n",
       "\n",
       "    .dataframe thead th {\n",
       "        text-align: right;\n",
       "    }\n",
       "</style>\n",
       "<table border=\"1\" class=\"dataframe\">\n",
       "  <thead>\n",
       "    <tr style=\"text-align: right;\">\n",
       "      <th></th>\n",
       "      <th>0</th>\n",
       "      <th>1</th>\n",
       "      <th>2</th>\n",
       "      <th>3</th>\n",
       "      <th>4</th>\n",
       "      <th>5</th>\n",
       "    </tr>\n",
       "  </thead>\n",
       "  <tbody>\n",
       "    <tr>\n",
       "      <th>0</th>\n",
       "      <td>2024-05-24</td>\n",
       "      <td>10178</td>\n",
       "      <td>154</td>\n",
       "      <td>69956</td>\n",
       "      <td>1.0</td>\n",
       "      <td>95.0</td>\n",
       "    </tr>\n",
       "    <tr>\n",
       "      <th>1</th>\n",
       "      <td>2024-05-24</td>\n",
       "      <td>10178</td>\n",
       "      <td>151</td>\n",
       "      <td>57768</td>\n",
       "      <td>1.0</td>\n",
       "      <td>150.0</td>\n",
       "    </tr>\n",
       "    <tr>\n",
       "      <th>2</th>\n",
       "      <td>2024-05-24</td>\n",
       "      <td>10178</td>\n",
       "      <td>151</td>\n",
       "      <td>57768</td>\n",
       "      <td>1.0</td>\n",
       "      <td>150.0</td>\n",
       "    </tr>\n",
       "    <tr>\n",
       "      <th>3</th>\n",
       "      <td>2024-05-24</td>\n",
       "      <td>10178</td>\n",
       "      <td>151</td>\n",
       "      <td>57768</td>\n",
       "      <td>1.0</td>\n",
       "      <td>150.0</td>\n",
       "    </tr>\n",
       "    <tr>\n",
       "      <th>4</th>\n",
       "      <td>2024-05-24</td>\n",
       "      <td>10178</td>\n",
       "      <td>151</td>\n",
       "      <td>57768</td>\n",
       "      <td>3.0</td>\n",
       "      <td>450.0</td>\n",
       "    </tr>\n",
       "  </tbody>\n",
       "</table>\n",
       "</div>"
      ],
      "text/plain": [
       "            0      1    2      3    4      5\n",
       "0  2024-05-24  10178  154  69956  1.0   95.0\n",
       "1  2024-05-24  10178  151  57768  1.0  150.0\n",
       "2  2024-05-24  10178  151  57768  1.0  150.0\n",
       "3  2024-05-24  10178  151  57768  1.0  150.0\n",
       "4  2024-05-24  10178  151  57768  3.0  450.0"
      ]
     },
     "execution_count": 3,
     "metadata": {},
     "output_type": "execute_result"
    }
   ],
   "source": [
    "df.head(5)"
   ]
  },
  {
   "cell_type": "code",
   "execution_count": 4,
   "id": "d2809798",
   "metadata": {},
   "outputs": [],
   "source": [
    "df.columns = ['date', 'outlet_id', 'Sub_cat_id', 'Item_code', 'Quantity', 'Price']\n"
   ]
  },
  {
   "cell_type": "code",
   "execution_count": 5,
   "id": "e38cece2",
   "metadata": {},
   "outputs": [
    {
     "data": {
      "text/html": [
       "<div>\n",
       "<style scoped>\n",
       "    .dataframe tbody tr th:only-of-type {\n",
       "        vertical-align: middle;\n",
       "    }\n",
       "\n",
       "    .dataframe tbody tr th {\n",
       "        vertical-align: top;\n",
       "    }\n",
       "\n",
       "    .dataframe thead th {\n",
       "        text-align: right;\n",
       "    }\n",
       "</style>\n",
       "<table border=\"1\" class=\"dataframe\">\n",
       "  <thead>\n",
       "    <tr style=\"text-align: right;\">\n",
       "      <th></th>\n",
       "      <th>date</th>\n",
       "      <th>outlet_id</th>\n",
       "      <th>Sub_cat_id</th>\n",
       "      <th>Item_code</th>\n",
       "      <th>Quantity</th>\n",
       "      <th>Price</th>\n",
       "    </tr>\n",
       "  </thead>\n",
       "  <tbody>\n",
       "    <tr>\n",
       "      <th>0</th>\n",
       "      <td>2024-05-24</td>\n",
       "      <td>10178</td>\n",
       "      <td>154</td>\n",
       "      <td>69956</td>\n",
       "      <td>1.0</td>\n",
       "      <td>95.0</td>\n",
       "    </tr>\n",
       "    <tr>\n",
       "      <th>1</th>\n",
       "      <td>2024-05-24</td>\n",
       "      <td>10178</td>\n",
       "      <td>151</td>\n",
       "      <td>57768</td>\n",
       "      <td>1.0</td>\n",
       "      <td>150.0</td>\n",
       "    </tr>\n",
       "    <tr>\n",
       "      <th>2</th>\n",
       "      <td>2024-05-24</td>\n",
       "      <td>10178</td>\n",
       "      <td>151</td>\n",
       "      <td>57768</td>\n",
       "      <td>1.0</td>\n",
       "      <td>150.0</td>\n",
       "    </tr>\n",
       "    <tr>\n",
       "      <th>3</th>\n",
       "      <td>2024-05-24</td>\n",
       "      <td>10178</td>\n",
       "      <td>151</td>\n",
       "      <td>57768</td>\n",
       "      <td>1.0</td>\n",
       "      <td>150.0</td>\n",
       "    </tr>\n",
       "    <tr>\n",
       "      <th>4</th>\n",
       "      <td>2024-05-24</td>\n",
       "      <td>10178</td>\n",
       "      <td>151</td>\n",
       "      <td>57768</td>\n",
       "      <td>3.0</td>\n",
       "      <td>450.0</td>\n",
       "    </tr>\n",
       "  </tbody>\n",
       "</table>\n",
       "</div>"
      ],
      "text/plain": [
       "         date  outlet_id  Sub_cat_id  Item_code  Quantity  Price\n",
       "0  2024-05-24      10178         154      69956       1.0   95.0\n",
       "1  2024-05-24      10178         151      57768       1.0  150.0\n",
       "2  2024-05-24      10178         151      57768       1.0  150.0\n",
       "3  2024-05-24      10178         151      57768       1.0  150.0\n",
       "4  2024-05-24      10178         151      57768       3.0  450.0"
      ]
     },
     "execution_count": 5,
     "metadata": {},
     "output_type": "execute_result"
    }
   ],
   "source": [
    "df.head(5)"
   ]
  },
  {
   "cell_type": "code",
   "execution_count": 6,
   "id": "46b46377",
   "metadata": {},
   "outputs": [
    {
     "name": "stdout",
     "output_type": "stream",
     "text": [
      "date          0\n",
      "outlet_id     0\n",
      "Sub_cat_id    0\n",
      "Item_code     0\n",
      "Quantity      0\n",
      "Price         0\n",
      "dtype: int64\n"
     ]
    }
   ],
   "source": [
    "print(df.isnull().sum())"
   ]
  },
  {
   "cell_type": "code",
   "execution_count": 7,
   "id": "ba153c34",
   "metadata": {},
   "outputs": [],
   "source": [
    "df = df.dropna()"
   ]
  },
  {
   "cell_type": "code",
   "execution_count": 8,
   "id": "666be077-bb75-4ca4-a016-2b2b9b096c77",
   "metadata": {},
   "outputs": [
    {
     "name": "stdout",
     "output_type": "stream",
     "text": [
      "               date  outlet_id  Sub_cat_id  Item_code  Quantity   Price\n",
      "0        2024-05-24      10178         154      69956       1.0   95.00\n",
      "1        2024-05-24      10178         151      57768       1.0  150.00\n",
      "2        2024-05-24      10178         151      57768       1.0  150.00\n",
      "3        2024-05-24      10178         151      57768       1.0  150.00\n",
      "4        2024-05-24      10178         151      57768       3.0  450.00\n",
      "...             ...        ...         ...        ...       ...     ...\n",
      "1526217  2024-06-14      10243         130      69017       2.0  114.00\n",
      "1526218  2024-06-14      10223         188      58288      15.0  780.00\n",
      "1526219  2024-06-14      10243         202      58231       3.0   30.00\n",
      "1526220  2024-06-14      10255         154      70172       2.0   96.00\n",
      "1526221  2024-06-13      10272         197   15554109       1.0  474.35\n",
      "\n",
      "[1518944 rows x 6 columns]\n"
     ]
    }
   ],
   "source": [
    "# Remove rows where 'quantity' is 0\n",
    "df = df[df['Quantity'] != 0]\n",
    "\n",
    "# Verify the rows with 'quantity' 0 are removed\n",
    "print(df)\n"
   ]
  },
  {
   "cell_type": "code",
   "execution_count": 9,
   "id": "30d207f1",
   "metadata": {},
   "outputs": [
    {
     "name": "stdout",
     "output_type": "stream",
     "text": [
      "date          0\n",
      "outlet_id     0\n",
      "Sub_cat_id    0\n",
      "Item_code     0\n",
      "Quantity      0\n",
      "Price         0\n",
      "dtype: int64\n"
     ]
    }
   ],
   "source": [
    "print(df.isnull().sum())"
   ]
  },
  {
   "cell_type": "code",
   "execution_count": 10,
   "id": "a3af551b-c1f9-4f89-9f43-c3784782bc21",
   "metadata": {},
   "outputs": [
    {
     "name": "stdout",
     "output_type": "stream",
     "text": [
      "               date  outlet_id  Sub_cat_id  Item_code  Quantity       Price\n",
      "1236681  2024-04-08      10178          79      69857    3200.0  1048000.00\n",
      "1236643  2024-03-31      10252          79      70289    2405.0  1005290.00\n",
      "1233737  2023-09-10      10177          47      69567    8421.7   432875.38\n",
      "1235642  2023-12-31      10266         145      58009   12370.0   352545.00\n",
      "1235701  2024-01-30      10267          50      69169     460.0   286120.00\n",
      "1229830  2022-09-09      10247         197      58711    1350.0   250087.50\n",
      "1441968  2024-05-23      10257          68      58601   39250.0   202137.50\n",
      "1236028  2024-02-13      10244         197      57518     170.0   141950.00\n",
      "1235796  2024-01-29      10224          74      69896     220.0   141680.00\n",
      "1234977  2023-11-02      10224          74      69896     200.0   128800.00\n",
      "1235412  2023-12-24      10224          74      69896     200.0   128800.00\n",
      "1466477  2024-07-31      10224          74      69896     200.0   128800.00\n",
      "1231376  2022-11-30      10224         178      69237     200.0   120000.00\n",
      "1231420  2023-01-02      10224         178      69237     200.0   120000.00\n",
      "1232254  2023-06-08      10224         178      69237     200.0   117500.00\n",
      "1234431  2023-11-02      10224          74      69896     180.0   115920.00\n",
      "1236561  2024-03-24      10224          74      69896     180.0   115920.00\n",
      "1433631  2024-05-22      10224          74      69896     180.0   115920.00\n",
      "1232624  2023-07-09      10224          74      69896     170.0   109480.00\n",
      "1233418  2023-08-06      10224          74      69896     160.0   103040.00\n"
     ]
    }
   ],
   "source": [
    "# Display the top 20 rows with the highest prices\n",
    "top_20_prices = df.nlargest(20, 'Price')\n",
    "print(top_20_prices)\n"
   ]
  },
  {
   "cell_type": "code",
   "execution_count": 11,
   "id": "19cb1f23-247c-4da8-bc7a-4cfd66da613d",
   "metadata": {},
   "outputs": [],
   "source": [
    "# Remove rows where 'quantity' is more than 100\n",
    "df = df[df['Quantity'] <= 100]\n"
   ]
  },
  {
   "cell_type": "code",
   "execution_count": 12,
   "id": "3d27174f-d349-4954-b4ad-9f5f7d1be8d5",
   "metadata": {},
   "outputs": [],
   "source": [
    "# Remove rows where 'price' is more than 30,000\n",
    "df = df[df['Price'] <= 30000]\n"
   ]
  },
  {
   "cell_type": "code",
   "execution_count": 13,
   "id": "6274c0ce-3f55-42b2-89bc-7b020d0e389e",
   "metadata": {},
   "outputs": [],
   "source": [
    "# Remove rows where 'quantity' is less than 0\n",
    "df = df[df['Quantity'] >= 0]\n"
   ]
  },
  {
   "cell_type": "code",
   "execution_count": null,
   "id": "2efcdd48-6bce-4f0e-af7e-e447df9d6554",
   "metadata": {},
   "outputs": [],
   "source": []
  },
  {
   "cell_type": "code",
   "execution_count": null,
   "id": "7b2490ef-bfc5-4a4c-b152-fc4670f30f39",
   "metadata": {},
   "outputs": [],
   "source": []
  },
  {
   "cell_type": "code",
   "execution_count": null,
   "id": "26d7c791-e13b-4b24-b455-5bb8f809f8ef",
   "metadata": {},
   "outputs": [],
   "source": []
  },
  {
   "cell_type": "code",
   "execution_count": null,
   "id": "8138d0e3-6c19-426f-a447-f955132e170f",
   "metadata": {},
   "outputs": [],
   "source": []
  },
  {
   "cell_type": "code",
   "execution_count": 14,
   "id": "3152f825",
   "metadata": {},
   "outputs": [],
   "source": [
    "# Convert 'date' column to datetime\n",
    "df['date'] = pd.to_datetime(df['date'])\n"
   ]
  },
  {
   "cell_type": "code",
   "execution_count": null,
   "id": "248514cd-6fc1-49ea-85b5-699571ad6053",
   "metadata": {},
   "outputs": [],
   "source": []
  },
  {
   "cell_type": "code",
   "execution_count": 15,
   "id": "b2c99659",
   "metadata": {},
   "outputs": [
    {
     "name": "stdout",
     "output_type": "stream",
     "text": [
      "                                date     outlet_id    Sub_cat_id  \\\n",
      "count                        1513539  1.513539e+06  1.513539e+06   \n",
      "mean   2023-12-23 01:42:57.826141184  1.023017e+04  1.557782e+02   \n",
      "min              2022-06-01 00:00:00  1.017700e+04  3.200000e+01   \n",
      "25%              2023-09-12 00:00:00  1.021600e+04  1.460000e+02   \n",
      "50%              2023-12-18 00:00:00  1.022300e+04  1.620000e+02   \n",
      "75%              2024-04-07 00:00:00  1.025700e+04  1.980000e+02   \n",
      "max              2024-08-04 00:00:00  1.027200e+04  2.160000e+02   \n",
      "std                              NaN  2.901623e+01  5.006976e+01   \n",
      "\n",
      "          Item_code      Quantity         Price  \n",
      "count  1.513539e+06  1.513539e+06  1.513539e+06  \n",
      "mean   6.846096e+04  2.533153e+00  2.335392e+02  \n",
      "min    5.538200e+04  1.000000e-04  0.000000e+00  \n",
      "25%    5.787600e+04  1.000000e+00  5.500000e+01  \n",
      "50%    5.869000e+04  1.000000e+00  1.200000e+02  \n",
      "75%    6.941600e+04  1.550000e+00  2.200000e+02  \n",
      "max    1.555499e+07  1.000000e+02  2.988000e+04  \n",
      "std    2.832347e+05  5.835997e+00  4.365087e+02  \n"
     ]
    }
   ],
   "source": [
    "# Descriptive statistics\n",
    "print(df.describe())\n"
   ]
  },
  {
   "cell_type": "code",
   "execution_count": 16,
   "id": "4ed7d98d",
   "metadata": {},
   "outputs": [
    {
     "name": "stderr",
     "output_type": "stream",
     "text": [
      "D:\\Python311\\Anaconda\\Lib\\site-packages\\seaborn\\_oldcore.py:1119: FutureWarning: use_inf_as_na option is deprecated and will be removed in a future version. Convert inf values to NaN before operating instead.\n",
      "  with pd.option_context('mode.use_inf_as_na', True):\n"
     ]
    },
    {
     "data": {
      "image/png": "[encoded data removed]",
      "text/plain": [
       "<Figure size 640x480 with 1 Axes>"
      ]
     },
     "metadata": {},
     "output_type": "display_data"
    },
    {
     "data": {
      "image/png": "[encoded data removed]",
      "text/plain": [
       "<Figure size 640x480 with 1 Axes>"
      ]
     },
     "metadata": {},
     "output_type": "display_data"
    }
   ],
   "source": [
    "import matplotlib.pyplot as plt\n",
    "import seaborn as sns\n",
    "\n",
    "# Quantity distribution\n",
    "sns.histplot(df['Quantity'], bins=30)\n",
    "plt.show()\n",
    "\n",
    "# Relationship between Price and Quantity\n",
    "sns.scatterplot(x='Price', y='Quantity', data=df)\n",
    "plt.show()\n"
   ]
  },
  {
   "cell_type": "code",
   "execution_count": 17,
   "id": "56243bf5",
   "metadata": {},
   "outputs": [
    {
     "data": {
      "image/png": "[encoded data removed]",
      "text/plain": [
       "<Figure size 640x480 with 1 Axes>"
      ]
     },
     "metadata": {},
     "output_type": "display_data"
    }
   ],
   "source": [
    "sns.boxplot(x=df['Quantity'])\n",
    "plt.show()"
   ]
  },
  {
   "cell_type": "code",
   "execution_count": 18,
   "id": "3f8147a9-51ff-45ca-895e-118204630a46",
   "metadata": {},
   "outputs": [],
   "source": [
    "df['date'] = pd.to_datetime(df['date'])\n",
    "df['year'] = df['date'].dt.year\n",
    "df['month'] = df['date'].dt.month\n",
    "df['day'] = df['date'].dt.day\n",
    "df['day_of_week'] = df['date'].dt.dayofweek\n",
    "df['is_weekend'] = df['date'].dt.dayofweek >= 5\n",
    "df = df.drop(['date'], axis=1)\n"
   ]
  },
  {
   "cell_type": "code",
   "execution_count": 19,
   "id": "42b239f7-6582-41c0-b62b-0adf5545ce6a",
   "metadata": {},
   "outputs": [],
   "source": [
    "X = df.drop(['Quantity'], axis=1)\n",
    "y = df['Quantity']\n"
   ]
  },
  {
   "cell_type": "code",
   "execution_count": 20,
   "id": "233907c9-c86d-44c0-ba20-3de9554564fd",
   "metadata": {},
   "outputs": [],
   "source": [
    "from sklearn.model_selection import train_test_split\n",
    "X_train, X_test, y_train, y_test = train_test_split(X, y, test_size=0.2, random_state=42)\n"
   ]
  },
  {
   "cell_type": "code",
   "execution_count": null,
   "id": "d64054c6-77c1-47bb-afcb-d4c4ac72c90b",
   "metadata": {},
   "outputs": [],
   "source": [
    "from sklearn.ensemble import RandomForestRegressor\n",
    "rf = RandomForestRegressor(n_estimators=100, random_state=42)\n",
    "rf.fit(X_train, y_train)\n"
   ]
  },
  {
   "cell_type": "code",
   "execution_count": null,
   "id": "f25b70d3-334f-44b8-90e1-6ba915fc6046",
   "metadata": {},
   "outputs": [],
   "source": [
    "from sklearn.metrics import mean_squared_error, r2_score\n",
    "\n",
    "# Predict on the test set\n",
    "y_pred = rf.predict(X_test)\n",
    "\n",
    "# Calculate Mean Squared Error and R-squared\n",
    "mse = mean_squared_error(y_test, y_pred)\n",
    "r2 = r2_score(y_test, y_pred)\n",
    "\n",
    "print(f'Mean Squared Error: {mse}')\n",
    "print(f'R-squared: {r2}')\n"
   ]
  },
  {
   "cell_type": "code",
   "execution_count": null,
   "id": "56ae8c98-c591-460d-bb2f-75467db63f29",
   "metadata": {},
   "outputs": [],
   "source": [
    "import pandas as pd\n",
    "from itertools import product\n",
    "from datetime import timedelta\n",
    "\n",
    "# Generate future dates for the next 7 days\n",
    "future_dates = pd.date_range(start=pd.to_datetime('today'), periods=7)\n",
    "future_dates = pd.DataFrame({'date': future_dates})\n",
    "\n",
    "# Get unique values for outlet_id, Item_code, and Sub_cat_id\n",
    "outlet_ids = df['outlet_id'].unique()\n",
    "item_codes = df['Item_code'].unique()\n",
    "sub_cat_ids = df['Sub_cat_id'].unique()\n",
    "\n",
    "# Create all combinations of outlet_id, Item_code, Sub_cat_id for each date\n",
    "combinations = list(product(outlet_ids, sub_cat_ids, item_codes, future_dates['date']))\n",
    "\n",
    "# Convert combinations to DataFrame\n",
    "future_data = pd.DataFrame(combinations, columns=['outlet_id', 'Sub_cat_id', 'Item_code', 'date'])\n",
    "\n",
    "# Extract date-related features\n",
    "future_data['year'] = future_data['date'].dt.year\n",
    "future_data['month'] = future_data['date'].dt.month\n",
    "future_data['day'] = future_data['date'].dt.day\n",
    "future_data['day_of_week'] = future_data['date'].dt.dayofweek\n",
    "future_data['is_weekend'] = future_data['date'].dt.dayofweek >= 5\n",
    "\n",
    "# Drop the date column as it is not needed for prediction\n",
    "future_data = future_data.drop(['date'], axis=1)\n",
    "\n",
    "# Assume a constant price (mean of the Price column)\n",
    "future_data['Price'] = df['Price'].mean()\n",
    "\n",
    "# Predict future demand\n",
    "# Ensure your Random Forest model is trained to handle these features:\n",
    "# ['outlet_id', 'Sub_cat_id', 'Item_code', 'year', 'month', 'day', 'day_of_week', 'is_weekend', 'Price']\n",
    "future_predictions = rf.predict(future_data)\n",
    "future_data['predicted_quantity'] = future_predictions\n",
    "\n",
    "# Display the future data with predictions\n",
    "print(future_data)\n"
   ]
  },
  {
   "cell_type": "code",
   "execution_count": null,
   "id": "a27393da-a0d2-4c49-bee5-23ee707c3f20",
   "metadata": {},
   "outputs": [],
   "source": []
  },
  {
   "cell_type": "code",
   "execution_count": null,
   "id": "72fa478e-5f4a-4053-bf15-63489259a54a",
   "metadata": {},
   "outputs": [],
   "source": []
  },
  {
   "cell_type": "code",
   "execution_count": null,
   "id": "9c7daa57-7646-44d2-bf73-85a56e89e8c7",
   "metadata": {},
   "outputs": [],
   "source": []
  },
  {
   "cell_type": "code",
   "execution_count": null,
   "id": "49491ceb-9ffa-4133-baf5-2a957eb810db",
   "metadata": {},
   "outputs": [],
   "source": []
  },
  {
   "cell_type": "code",
   "execution_count": null,
   "id": "532e81af-ee4e-446b-8471-34f8b24532cd",
   "metadata": {},
   "outputs": [],
   "source": []
  },
  {
   "cell_type": "code",
   "execution_count": null,
   "id": "7faecea3-0ecd-483b-a329-d1d71ddcf730",
   "metadata": {},
   "outputs": [],
   "source": []
  },
  {
   "cell_type": "code",
   "execution_count": null,
   "id": "33b81229-afb1-47d9-afce-2e031ef83fcf",
   "metadata": {},
   "outputs": [],
   "source": []
  },
  {
   "cell_type": "code",
   "execution_count": null,
   "id": "11563b78-bbf1-4869-84fc-4b0960651dce",
   "metadata": {},
   "outputs": [],
   "source": []
  },
  {
   "cell_type": "code",
   "execution_count": null,
   "id": "bad290ad-b4a3-4c49-bb0a-c958ea1c8973",
   "metadata": {},
   "outputs": [],
   "source": []
  },
  {
   "cell_type": "code",
   "execution_count": null,
   "id": "bc20c38c-a538-4264-ae7f-e3d724aa209d",
   "metadata": {},
   "outputs": [],
   "source": []
  },
  {
   "cell_type": "code",
   "execution_count": null,
   "id": "afbcbf0e",
   "metadata": {},
   "outputs": [],
   "source": [
    "from sklearn.metrics import mean_squared_error, r2_score\n",
    "\n",
    "# Predict on test set\n",
    "y_pred = rf.predict(X_test)\n",
    "\n",
    "# Evaluate the model\n",
    "mse = mean_squared_error(y_test, y_pred)\n",
    "r2 = r2_score(y_test, y_pred)\n",
    "\n",
    "print(f'Mean Squared Error: {mse}')\n",
    "print(f'R-squared: {r2}')\n"
   ]
  },
  {
   "cell_type": "code",
   "execution_count": null,
   "id": "e8f68fe4",
   "metadata": {},
   "outputs": [],
   "source": []
  }
 ],
 "metadata": {
  "kernelspec": {
   "display_name": "Python 3 (ipykernel)",
   "language": "python",
   "name": "python3"
  },
  "language_info": {
   "codemirror_mode": {
    "name": "ipython",
    "version": 3
   },
   "file_extension": ".py",
   "mimetype": "text/x-python",
   "name": "python",
   "nbconvert_exporter": "python",
   "pygments_lexer": "ipython3",
   "version": "3.11.7"
  }
 },
 "nbformat": 4,
 "nbformat_minor": 5
}
