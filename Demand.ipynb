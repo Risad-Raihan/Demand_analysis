{
 "cells": [
  {
   "cell_type": "code",
   "execution_count": 1,
   "id": "55eb756c",
   "metadata": {},
   "outputs": [],
   "source": [
    "import pandas as pd"
   ]
  },
  {
   "cell_type": "code",
   "execution_count": 2,
   "id": "8335cf26",
   "metadata": {},
   "outputs": [],
   "source": [
    "df = pd.read_csv('data.csv', header=None)"
   ]
  },
  {
   "cell_type": "code",
   "execution_count": 3,
   "id": "b36c8c91",
   "metadata": {},
   "outputs": [
    {
     "data": {
      "text/html": [
       "<div>\n",
       "<style scoped>\n",
       "    .dataframe tbody tr th:only-of-type {\n",
       "        vertical-align: middle;\n",
       "    }\n",
       "\n",
       "    .dataframe tbody tr th {\n",
       "        vertical-align: top;\n",
       "    }\n",
       "\n",
       "    .dataframe thead th {\n",
       "        text-align: right;\n",
       "    }\n",
       "</style>\n",
       "<table border=\"1\" class=\"dataframe\">\n",
       "  <thead>\n",
       "    <tr style=\"text-align: right;\">\n",
       "      <th></th>\n",
       "      <th>0</th>\n",
       "      <th>1</th>\n",
       "      <th>2</th>\n",
       "      <th>3</th>\n",
       "      <th>4</th>\n",
       "      <th>5</th>\n",
       "      <th>6</th>\n",
       "      <th>7</th>\n",
       "      <th>8</th>\n",
       "    </tr>\n",
       "  </thead>\n",
       "  <tbody>\n",
       "    <tr>\n",
       "      <th>0</th>\n",
       "      <td>2024-05-24</td>\n",
       "      <td>10178</td>\n",
       "      <td>Green Smart Shirts Ltd.</td>\n",
       "      <td>69956</td>\n",
       "      <td>Frutika Mango Drink 1000 Ml</td>\n",
       "      <td>154</td>\n",
       "      <td>Family Pack</td>\n",
       "      <td>1.0</td>\n",
       "      <td>95.0</td>\n",
       "    </tr>\n",
       "    <tr>\n",
       "      <th>1</th>\n",
       "      <td>2024-05-24</td>\n",
       "      <td>10178</td>\n",
       "      <td>Green Smart Shirts Ltd.</td>\n",
       "      <td>57768</td>\n",
       "      <td>Egg 12 PC</td>\n",
       "      <td>151</td>\n",
       "      <td>Egg</td>\n",
       "      <td>1.0</td>\n",
       "      <td>150.0</td>\n",
       "    </tr>\n",
       "    <tr>\n",
       "      <th>2</th>\n",
       "      <td>2024-05-24</td>\n",
       "      <td>10178</td>\n",
       "      <td>Green Smart Shirts Ltd.</td>\n",
       "      <td>57768</td>\n",
       "      <td>Egg 12 PC</td>\n",
       "      <td>151</td>\n",
       "      <td>Egg</td>\n",
       "      <td>1.0</td>\n",
       "      <td>150.0</td>\n",
       "    </tr>\n",
       "    <tr>\n",
       "      <th>3</th>\n",
       "      <td>2024-05-24</td>\n",
       "      <td>10178</td>\n",
       "      <td>Green Smart Shirts Ltd.</td>\n",
       "      <td>57768</td>\n",
       "      <td>Egg 12 PC</td>\n",
       "      <td>151</td>\n",
       "      <td>Egg</td>\n",
       "      <td>1.0</td>\n",
       "      <td>150.0</td>\n",
       "    </tr>\n",
       "    <tr>\n",
       "      <th>4</th>\n",
       "      <td>2024-05-24</td>\n",
       "      <td>10178</td>\n",
       "      <td>Green Smart Shirts Ltd.</td>\n",
       "      <td>57768</td>\n",
       "      <td>Egg 12 PC</td>\n",
       "      <td>151</td>\n",
       "      <td>Egg</td>\n",
       "      <td>3.0</td>\n",
       "      <td>450.0</td>\n",
       "    </tr>\n",
       "  </tbody>\n",
       "</table>\n",
       "</div>"
      ],
      "text/plain": [
       "            0      1                        2      3  \\\n",
       "0  2024-05-24  10178  Green Smart Shirts Ltd.  69956   \n",
       "1  2024-05-24  10178  Green Smart Shirts Ltd.  57768   \n",
       "2  2024-05-24  10178  Green Smart Shirts Ltd.  57768   \n",
       "3  2024-05-24  10178  Green Smart Shirts Ltd.  57768   \n",
       "4  2024-05-24  10178  Green Smart Shirts Ltd.  57768   \n",
       "\n",
       "                             4    5            6    7      8  \n",
       "0  Frutika Mango Drink 1000 Ml  154  Family Pack  1.0   95.0  \n",
       "1                    Egg 12 PC  151          Egg  1.0  150.0  \n",
       "2                    Egg 12 PC  151          Egg  1.0  150.0  \n",
       "3                    Egg 12 PC  151          Egg  1.0  150.0  \n",
       "4                    Egg 12 PC  151          Egg  3.0  450.0  "
      ]
     },
     "execution_count": 3,
     "metadata": {},
     "output_type": "execute_result"
    }
   ],
   "source": [
    "df.head(5)"
   ]
  },
  {
   "cell_type": "code",
   "execution_count": 4,
   "id": "d2809798",
   "metadata": {},
   "outputs": [],
   "source": [
    "df.columns = ['date', 'outlet_id', 'outlet', 'Item_code', 'Item_Name', 'Sub_cat_id', 'sub_category_name', 'Quantity', 'Price']\n"
   ]
  },
  {
   "cell_type": "code",
   "execution_count": 5,
   "id": "e38cece2",
   "metadata": {},
   "outputs": [
    {
     "data": {
      "text/html": [
       "<div>\n",
       "<style scoped>\n",
       "    .dataframe tbody tr th:only-of-type {\n",
       "        vertical-align: middle;\n",
       "    }\n",
       "\n",
       "    .dataframe tbody tr th {\n",
       "        vertical-align: top;\n",
       "    }\n",
       "\n",
       "    .dataframe thead th {\n",
       "        text-align: right;\n",
       "    }\n",
       "</style>\n",
       "<table border=\"1\" class=\"dataframe\">\n",
       "  <thead>\n",
       "    <tr style=\"text-align: right;\">\n",
       "      <th></th>\n",
       "      <th>date</th>\n",
       "      <th>outlet_id</th>\n",
       "      <th>outlet</th>\n",
       "      <th>Item_code</th>\n",
       "      <th>Item_Name</th>\n",
       "      <th>Sub_cat_id</th>\n",
       "      <th>sub_category_name</th>\n",
       "      <th>Quantity</th>\n",
       "      <th>Price</th>\n",
       "    </tr>\n",
       "  </thead>\n",
       "  <tbody>\n",
       "    <tr>\n",
       "      <th>0</th>\n",
       "      <td>2024-05-24</td>\n",
       "      <td>10178</td>\n",
       "      <td>Green Smart Shirts Ltd.</td>\n",
       "      <td>69956</td>\n",
       "      <td>Frutika Mango Drink 1000 Ml</td>\n",
       "      <td>154</td>\n",
       "      <td>Family Pack</td>\n",
       "      <td>1.0</td>\n",
       "      <td>95.0</td>\n",
       "    </tr>\n",
       "    <tr>\n",
       "      <th>1</th>\n",
       "      <td>2024-05-24</td>\n",
       "      <td>10178</td>\n",
       "      <td>Green Smart Shirts Ltd.</td>\n",
       "      <td>57768</td>\n",
       "      <td>Egg 12 PC</td>\n",
       "      <td>151</td>\n",
       "      <td>Egg</td>\n",
       "      <td>1.0</td>\n",
       "      <td>150.0</td>\n",
       "    </tr>\n",
       "    <tr>\n",
       "      <th>2</th>\n",
       "      <td>2024-05-24</td>\n",
       "      <td>10178</td>\n",
       "      <td>Green Smart Shirts Ltd.</td>\n",
       "      <td>57768</td>\n",
       "      <td>Egg 12 PC</td>\n",
       "      <td>151</td>\n",
       "      <td>Egg</td>\n",
       "      <td>1.0</td>\n",
       "      <td>150.0</td>\n",
       "    </tr>\n",
       "    <tr>\n",
       "      <th>3</th>\n",
       "      <td>2024-05-24</td>\n",
       "      <td>10178</td>\n",
       "      <td>Green Smart Shirts Ltd.</td>\n",
       "      <td>57768</td>\n",
       "      <td>Egg 12 PC</td>\n",
       "      <td>151</td>\n",
       "      <td>Egg</td>\n",
       "      <td>1.0</td>\n",
       "      <td>150.0</td>\n",
       "    </tr>\n",
       "    <tr>\n",
       "      <th>4</th>\n",
       "      <td>2024-05-24</td>\n",
       "      <td>10178</td>\n",
       "      <td>Green Smart Shirts Ltd.</td>\n",
       "      <td>57768</td>\n",
       "      <td>Egg 12 PC</td>\n",
       "      <td>151</td>\n",
       "      <td>Egg</td>\n",
       "      <td>3.0</td>\n",
       "      <td>450.0</td>\n",
       "    </tr>\n",
       "  </tbody>\n",
       "</table>\n",
       "</div>"
      ],
      "text/plain": [
       "         date  outlet_id                   outlet  Item_code  \\\n",
       "0  2024-05-24      10178  Green Smart Shirts Ltd.      69956   \n",
       "1  2024-05-24      10178  Green Smart Shirts Ltd.      57768   \n",
       "2  2024-05-24      10178  Green Smart Shirts Ltd.      57768   \n",
       "3  2024-05-24      10178  Green Smart Shirts Ltd.      57768   \n",
       "4  2024-05-24      10178  Green Smart Shirts Ltd.      57768   \n",
       "\n",
       "                     Item_Name  Sub_cat_id sub_category_name  Quantity  Price  \n",
       "0  Frutika Mango Drink 1000 Ml         154       Family Pack       1.0   95.0  \n",
       "1                    Egg 12 PC         151               Egg       1.0  150.0  \n",
       "2                    Egg 12 PC         151               Egg       1.0  150.0  \n",
       "3                    Egg 12 PC         151               Egg       1.0  150.0  \n",
       "4                    Egg 12 PC         151               Egg       3.0  450.0  "
      ]
     },
     "execution_count": 5,
     "metadata": {},
     "output_type": "execute_result"
    }
   ],
   "source": [
    "df.head(5)"
   ]
  },
  {
   "cell_type": "code",
   "execution_count": 6,
   "id": "46b46377",
   "metadata": {},
   "outputs": [
    {
     "name": "stdout",
     "output_type": "stream",
     "text": [
      "date                  0\n",
      "outlet_id             0\n",
      "outlet               55\n",
      "Item_code             0\n",
      "Item_Name             0\n",
      "Sub_cat_id            0\n",
      "sub_category_name     0\n",
      "Quantity              0\n",
      "Price                 0\n",
      "dtype: int64\n"
     ]
    }
   ],
   "source": [
    "print(df.isnull().sum())"
   ]
  },
  {
   "cell_type": "code",
   "execution_count": 7,
   "id": "ba153c34",
   "metadata": {},
   "outputs": [],
   "source": [
    "df = df.dropna()"
   ]
  },
  {
   "cell_type": "code",
   "execution_count": 8,
   "id": "30d207f1",
   "metadata": {},
   "outputs": [
    {
     "name": "stdout",
     "output_type": "stream",
     "text": [
      "date                 0\n",
      "outlet_id            0\n",
      "outlet               0\n",
      "Item_code            0\n",
      "Item_Name            0\n",
      "Sub_cat_id           0\n",
      "sub_category_name    0\n",
      "Quantity             0\n",
      "Price                0\n",
      "dtype: int64\n"
     ]
    }
   ],
   "source": [
    "print(df.isnull().sum())"
   ]
  },
  {
   "cell_type": "code",
   "execution_count": 9,
   "id": "3152f825",
   "metadata": {},
   "outputs": [],
   "source": [
    "# Convert 'date' column to datetime\n",
    "df['date'] = pd.to_datetime(df['date'])\n"
   ]
  },
  {
   "cell_type": "code",
   "execution_count": 10,
   "id": "b2c99659",
   "metadata": {},
   "outputs": [
    {
     "name": "stdout",
     "output_type": "stream",
     "text": [
      "          outlet_id     Item_code    Sub_cat_id      Quantity         Price\n",
      "count  1.524875e+06  1.524875e+06  1.524875e+06  1.524875e+06  1.524875e+06\n",
      "mean   1.023030e+04  1.065131e+05  1.557888e+02  2.783107e+00  2.394246e+02\n",
      "std    2.907808e+01  8.172267e+05  5.004482e+01  4.255576e+01  1.491113e+03\n",
      "min    1.017700e+04  5.523900e+04  3.200000e+01 -2.290000e+02 -9.600000e+03\n",
      "25%    1.021600e+04  5.787600e+04  1.460000e+02  1.000000e+00  5.300000e+01\n",
      "50%    1.022300e+04  5.869000e+04  1.620000e+02  1.000000e+00  1.200000e+02\n",
      "75%    1.025700e+04  6.941900e+04  1.980000e+02  1.475000e+00  2.185000e+02\n",
      "max    1.027200e+04  1.555499e+07  2.160000e+02  3.925000e+04  1.048000e+06\n"
     ]
    }
   ],
   "source": [
    "# Descriptive statistics\n",
    "print(df.describe())\n"
   ]
  },
  {
   "cell_type": "code",
   "execution_count": 11,
   "id": "4ed7d98d",
   "metadata": {},
   "outputs": [
    {
     "data": {
      "image/png": "[encoded data removed]",
      "text/plain": [
       "<Figure size 432x288 with 1 Axes>"
      ]
     },
     "metadata": {
      "needs_background": "light"
     },
     "output_type": "display_data"
    },
    {
     "data": {
      "image/png": "[encoded data removed]",
      "text/plain": [
       "<Figure size 432x288 with 1 Axes>"
      ]
     },
     "metadata": {
      "needs_background": "light"
     },
     "output_type": "display_data"
    }
   ],
   "source": [
    "import matplotlib.pyplot as plt\n",
    "import seaborn as sns\n",
    "\n",
    "# Quantity distribution\n",
    "sns.histplot(df['Quantity'], bins=30)\n",
    "plt.show()\n",
    "\n",
    "# Relationship between Price and Quantity\n",
    "sns.scatterplot(x='Price', y='Quantity', data=df)\n",
    "plt.show()\n"
   ]
  },
  {
   "cell_type": "code",
   "execution_count": 12,
   "id": "56243bf5",
   "metadata": {},
   "outputs": [
    {
     "data": {
      "image/png": "[encoded data removed]",
      "text/plain": [
       "<Figure size 432x288 with 1 Axes>"
      ]
     },
     "metadata": {
      "needs_background": "light"
     },
     "output_type": "display_data"
    }
   ],
   "source": [
    "sns.boxplot(x=df['Quantity'])\n",
    "plt.show()"
   ]
  },
  {
   "cell_type": "code",
   "execution_count": 13,
   "id": "147b8635",
   "metadata": {},
   "outputs": [
    {
     "data": {
      "image/png": "[encoded data removed]",
      "text/plain": [
       "<Figure size 432x288 with 1 Axes>"
      ]
     },
     "metadata": {
      "needs_background": "light"
     },
     "output_type": "display_data"
    }
   ],
   "source": [
    "# Calculate Q1 (25th percentile) and Q3 (75th percentile)\n",
    "Q1 = df['Quantity'].quantile(0.25)\n",
    "Q3 = df['Quantity'].quantile(0.75)\n",
    "IQR = Q3 - Q1\n",
    "\n",
    "# Define the lower and upper bound for outliers\n",
    "lower_bound = Q1 - 1.5 * IQR\n",
    "upper_bound = Q3 + 1.5 * IQR\n",
    "\n",
    "# Filter out the outliers\n",
    "df_cleaned = df[(df['Quantity'] >= lower_bound) & (df['Quantity'] <= upper_bound)]\n",
    "\n",
    "# Verify the removal of outliers\n",
    "sns.boxplot(x=df_cleaned['Quantity'])\n",
    "plt.show()\n"
   ]
  },
  {
   "cell_type": "code",
   "execution_count": 14,
   "id": "2c4afbcf",
   "metadata": {},
   "outputs": [
    {
     "name": "stderr",
     "output_type": "stream",
     "text": [
      "C:\\Users\\USER\\AppData\\Local\\Temp/ipykernel_22628/3516853083.py:1: SettingWithCopyWarning: \n",
      "A value is trying to be set on a copy of a slice from a DataFrame.\n",
      "Try using .loc[row_indexer,col_indexer] = value instead\n",
      "\n",
      "See the caveats in the documentation: https://pandas.pydata.org/pandas-docs/stable/user_guide/indexing.html#returning-a-view-versus-a-copy\n",
      "  df_cleaned['month'] = df_cleaned['date'].dt.month\n",
      "C:\\Users\\USER\\AppData\\Local\\Temp/ipykernel_22628/3516853083.py:2: SettingWithCopyWarning: \n",
      "A value is trying to be set on a copy of a slice from a DataFrame.\n",
      "Try using .loc[row_indexer,col_indexer] = value instead\n",
      "\n",
      "See the caveats in the documentation: https://pandas.pydata.org/pandas-docs/stable/user_guide/indexing.html#returning-a-view-versus-a-copy\n",
      "  df_cleaned['year'] = df_cleaned['date'].dt.year\n"
     ]
    }
   ],
   "source": [
    "df_cleaned['month'] = df_cleaned['date'].dt.month\n",
    "df_cleaned['year'] = df_cleaned['date'].dt.year\n"
   ]
  },
  {
   "cell_type": "code",
   "execution_count": 15,
   "id": "fbd5bb48",
   "metadata": {},
   "outputs": [
    {
     "name": "stderr",
     "output_type": "stream",
     "text": [
      "C:\\Users\\USER\\AppData\\Local\\Temp/ipykernel_22628/1884584599.py:1: SettingWithCopyWarning: \n",
      "A value is trying to be set on a copy of a slice from a DataFrame.\n",
      "Try using .loc[row_indexer,col_indexer] = value instead\n",
      "\n",
      "See the caveats in the documentation: https://pandas.pydata.org/pandas-docs/stable/user_guide/indexing.html#returning-a-view-versus-a-copy\n",
      "  df_cleaned.loc[:, 'month'] = df_cleaned['date'].dt.month\n",
      "C:\\Users\\USER\\AppData\\Local\\Temp/ipykernel_22628/1884584599.py:2: SettingWithCopyWarning: \n",
      "A value is trying to be set on a copy of a slice from a DataFrame.\n",
      "Try using .loc[row_indexer,col_indexer] = value instead\n",
      "\n",
      "See the caveats in the documentation: https://pandas.pydata.org/pandas-docs/stable/user_guide/indexing.html#returning-a-view-versus-a-copy\n",
      "  df_cleaned.loc[:, 'year'] = df_cleaned['date'].dt.year\n"
     ]
    }
   ],
   "source": [
    "df_cleaned.loc[:, 'month'] = df_cleaned['date'].dt.month\n",
    "df_cleaned.loc[:, 'year'] = df_cleaned['date'].dt.year\n"
   ]
  },
  {
   "cell_type": "code",
   "execution_count": 17,
   "id": "b6f7da32",
   "metadata": {},
   "outputs": [],
   "source": [
    "df_encoded = pd.get_dummies(df_cleaned, columns=['Item_Name', 'outlet', 'sub_category_name'])\n"
   ]
  },
  {
   "cell_type": "code",
   "execution_count": 18,
   "id": "7329c4ff",
   "metadata": {},
   "outputs": [
    {
     "name": "stdout",
     "output_type": "stream",
     "text": [
      "          outlet_id     Item_code    Sub_cat_id      Quantity         Price  \\\n",
      "count  1.316752e+06  1.316752e+06  1.316752e+06  1.316752e+06  1.316752e+06   \n",
      "mean   1.023013e+04  6.848263e+04  1.544193e+02  1.139032e+00  1.822065e+02   \n",
      "std    2.908578e+01  2.834892e+05  4.910078e+01  3.563889e-01  2.311614e+02   \n",
      "min    1.017700e+04  5.538200e+04  3.200000e+01  2.880000e-01  0.000000e+00   \n",
      "25%    1.021600e+04  5.788500e+04  1.460000e+02  1.000000e+00  5.300000e+01   \n",
      "50%    1.022300e+04  5.871800e+04  1.540000e+02  1.000000e+00  1.170000e+02   \n",
      "75%    1.025700e+04  6.941600e+04  1.970000e+02  1.000000e+00  1.800000e+02   \n",
      "max    1.027200e+04  1.555499e+07  2.160000e+02  2.185000e+00  5.900000e+03   \n",
      "\n",
      "              month          year  \n",
      "count  1.316752e+06  1.316752e+06  \n",
      "mean   6.503954e+00  2.023482e+03  \n",
      "std    3.220956e+00  5.004221e-01  \n",
      "min    1.000000e+00  2.022000e+03  \n",
      "25%    4.000000e+00  2.023000e+03  \n",
      "50%    7.000000e+00  2.023000e+03  \n",
      "75%    9.000000e+00  2.024000e+03  \n",
      "max    1.200000e+01  2.024000e+03  \n"
     ]
    }
   ],
   "source": [
    "print(df_cleaned.describe())"
   ]
  },
  {
   "cell_type": "code",
   "execution_count": 19,
   "id": "47b62485",
   "metadata": {},
   "outputs": [],
   "source": [
    "df_encoded = pd.get_dummies(df_cleaned, columns=['Item_Name', 'outlet', 'sub_category_name'])\n"
   ]
  },
  {
   "cell_type": "code",
   "execution_count": 20,
   "id": "8ffe685d",
   "metadata": {},
   "outputs": [
    {
     "name": "stdout",
     "output_type": "stream",
     "text": [
      "<class 'pandas.core.frame.DataFrame'>\n",
      "Int64Index: 1316752 entries, 0 to 1524929\n",
      "Data columns (total 11 columns):\n",
      " #   Column             Non-Null Count    Dtype         \n",
      "---  ------             --------------    -----         \n",
      " 0   date               1316752 non-null  datetime64[ns]\n",
      " 1   outlet_id          1316752 non-null  int64         \n",
      " 2   outlet             1316752 non-null  object        \n",
      " 3   Item_code          1316752 non-null  int64         \n",
      " 4   Item_Name          1316752 non-null  object        \n",
      " 5   Sub_cat_id         1316752 non-null  int64         \n",
      " 6   sub_category_name  1316752 non-null  object        \n",
      " 7   Quantity           1316752 non-null  float64       \n",
      " 8   Price              1316752 non-null  float64       \n",
      " 9   month              1316752 non-null  int64         \n",
      " 10  year               1316752 non-null  int64         \n",
      "dtypes: datetime64[ns](1), float64(2), int64(5), object(3)\n",
      "memory usage: 120.6+ MB\n"
     ]
    }
   ],
   "source": [
    "df_cleaned.info()"
   ]
  },
  {
   "cell_type": "code",
   "execution_count": 21,
   "id": "70ade0db",
   "metadata": {},
   "outputs": [
    {
     "name": "stdout",
     "output_type": "stream",
     "text": [
      "              date  outlet_id  Item_code  Sub_cat_id  Quantity  Price  month  \\\n",
      "0       2024-05-24      10178      69956         154       1.0   95.0      5   \n",
      "1       2024-05-24      10178      57768         151       1.0  150.0      5   \n",
      "2       2024-05-24      10178      57768         151       1.0  150.0      5   \n",
      "3       2024-05-24      10178      57768         151       1.0  150.0      5   \n",
      "5       2024-05-24      10178      57768         151       1.0  150.0      5   \n",
      "...            ...        ...        ...         ...       ...    ...    ...   \n",
      "1524925 2024-07-26      10260      69327         199       1.0  142.0      7   \n",
      "1524926 2024-07-26      10260      57386         190       1.0   41.0      7   \n",
      "1524927 2024-07-26      10260      57637         154       2.0  136.0      7   \n",
      "1524928 2024-07-26      10260      58766         150       1.0  128.0      7   \n",
      "1524929 2024-07-26      10260      69387         206       1.0   53.0      7   \n",
      "\n",
      "         year  Item_Name_ Chaad Dishwashing Liquid (Lemon ) 500ml   \\\n",
      "0        2024                                                  0     \n",
      "1        2024                                                  0     \n",
      "2        2024                                                  0     \n",
      "3        2024                                                  0     \n",
      "5        2024                                                  0     \n",
      "...       ...                                                ...     \n",
      "1524925  2024                                                  0     \n",
      "1524926  2024                                                  0     \n",
      "1524927  2024                                                  0     \n",
      "1524928  2024                                                  0     \n",
      "1524929  2024                                                  0     \n",
      "\n",
      "         Item_Name_ Chaad Dishwashing Liquid (Orange) 500ml   ...  \\\n",
      "0                                                        0    ...   \n",
      "1                                                        0    ...   \n",
      "2                                                        0    ...   \n",
      "3                                                        0    ...   \n",
      "5                                                        0    ...   \n",
      "...                                                    ...    ...   \n",
      "1524925                                                  0    ...   \n",
      "1524926                                                  0    ...   \n",
      "1524927                                                  0    ...   \n",
      "1524928                                                  0    ...   \n",
      "1524929                                                  0    ...   \n",
      "\n",
      "         sub_category_name_Sweets  sub_category_name_Tiffin Item -1  \\\n",
      "0                               0                                 0   \n",
      "1                               0                                 0   \n",
      "2                               0                                 0   \n",
      "3                               0                                 0   \n",
      "5                               0                                 0   \n",
      "...                           ...                               ...   \n",
      "1524925                         0                                 0   \n",
      "1524926                         0                                 0   \n",
      "1524927                         0                                 0   \n",
      "1524928                         0                                 0   \n",
      "1524929                         0                                 0   \n",
      "\n",
      "         sub_category_name_Tiffin Item -2  sub_category_name_Tissue Paper  \\\n",
      "0                                       0                               0   \n",
      "1                                       0                               0   \n",
      "2                                       0                               0   \n",
      "3                                       0                               0   \n",
      "5                                       0                               0   \n",
      "...                                   ...                             ...   \n",
      "1524925                                 0                               0   \n",
      "1524926                                 0                               0   \n",
      "1524927                                 0                               0   \n",
      "1524928                                 0                               0   \n",
      "1524929                                 0                               0   \n",
      "\n",
      "         sub_category_name_UHT Milk  sub_category_name_Umbrella  \\\n",
      "0                                 0                           0   \n",
      "1                                 0                           0   \n",
      "2                                 0                           0   \n",
      "3                                 0                           0   \n",
      "5                                 0                           0   \n",
      "...                             ...                         ...   \n",
      "1524925                           0                           0   \n",
      "1524926                           0                           0   \n",
      "1524927                           0                           0   \n",
      "1524928                           0                           0   \n",
      "1524929                           1                           0   \n",
      "\n",
      "         sub_category_name_Vegetables  sub_category_name_Vinegar  \\\n",
      "0                                   0                          0   \n",
      "1                                   0                          0   \n",
      "2                                   0                          0   \n",
      "3                                   0                          0   \n",
      "5                                   0                          0   \n",
      "...                               ...                        ...   \n",
      "1524925                             0                          0   \n",
      "1524926                             0                          0   \n",
      "1524927                             0                          0   \n",
      "1524928                             0                          0   \n",
      "1524929                             0                          0   \n",
      "\n",
      "         sub_category_name_Water  sub_category_name_Whole Spice  \n",
      "0                              0                              0  \n",
      "1                              0                              0  \n",
      "2                              0                              0  \n",
      "3                              0                              0  \n",
      "5                              0                              0  \n",
      "...                          ...                            ...  \n",
      "1524925                        0                              0  \n",
      "1524926                        0                              0  \n",
      "1524927                        0                              0  \n",
      "1524928                        0                              0  \n",
      "1524929                        0                              0  \n",
      "\n",
      "[1316752 rows x 1949 columns]\n"
     ]
    }
   ],
   "source": [
    "print(df_encoded)"
   ]
  },
  {
   "cell_type": "code",
   "execution_count": 22,
   "id": "50e38648",
   "metadata": {},
   "outputs": [],
   "source": [
    "from sklearn.model_selection import train_test_split"
   ]
  },
  {
   "cell_type": "code",
   "execution_count": 23,
   "id": "ac7d41a4",
   "metadata": {},
   "outputs": [],
   "source": [
    "# Define features and target\n",
    "X = df_encoded.drop(['Quantity', 'date'], axis=1)\n",
    "y = df_encoded['Quantity']"
   ]
  },
  {
   "cell_type": "code",
   "execution_count": 24,
   "id": "496725bd",
   "metadata": {},
   "outputs": [],
   "source": [
    "X_train, X_test, y_train, y_test = train_test_split(X, y, test_size=0.2, random_state=42)\n"
   ]
  },
  {
   "cell_type": "code",
   "execution_count": null,
   "id": "a4a421e6",
   "metadata": {},
   "outputs": [],
   "source": [
    "from sklearn.ensemble import RandomForestRegressor\n",
    "\n",
    "# Initialize the model\n",
    "rf = RandomForestRegressor(n_estimators=100, random_state=42)\n",
    "\n",
    "# Train the model\n",
    "rf.fit(X_train, y_train)\n"
   ]
  },
  {
   "cell_type": "code",
   "execution_count": null,
   "id": "afbcbf0e",
   "metadata": {},
   "outputs": [],
   "source": [
    "from sklearn.metrics import mean_squared_error, r2_score\n",
    "\n",
    "# Predict on test set\n",
    "y_pred = rf.predict(X_test)\n",
    "\n",
    "# Evaluate the model\n",
    "mse = mean_squared_error(y_test, y_pred)\n",
    "r2 = r2_score(y_test, y_pred)\n",
    "\n",
    "print(f'Mean Squared Error: {mse}')\n",
    "print(f'R-squared: {r2}')\n"
   ]
  },
  {
   "cell_type": "code",
   "execution_count": null,
   "id": "e8f68fe4",
   "metadata": {},
   "outputs": [],
   "source": []
  }
 ],
 "metadata": {
  "kernelspec": {
   "display_name": "Python 3 (ipykernel)",
   "language": "python",
   "name": "python3"
  },
  "language_info": {
   "codemirror_mode": {
    "name": "ipython",
    "version": 3
   },
   "file_extension": ".py",
   "mimetype": "text/x-python",
   "name": "python",
   "nbconvert_exporter": "python",
   "pygments_lexer": "ipython3",
   "version": "3.9.7"
  }
 },
 "nbformat": 4,
 "nbformat_minor": 5
}
